{
 "cells": [
  {
   "cell_type": "code",
   "execution_count": 1,
   "metadata": {},
   "outputs": [],
   "source": [
    "import scipy as sci\n",
    "import joblib as job\n",
    "import numpy as np\n",
    "import pandas as pd\n",
    "from sklearn import linear_model\n",
    "from sklearn.linear_model import Ridge, Lasso, ElasticNet\n",
    "from sklearn.metrics import mean_squared_error,r2_score\n",
    "from sklearn.model_selection import train_test_split, cross_val_score\n",
    "from sklearn import model_selection\n",
    "from sklearn.preprocessing import MinMaxScaler\n",
    "import matplotlib.pyplot as plt\n",
    "from sklearn.linear_model import RidgeCV, LassoCV,ElasticNetCV, MultiTaskLasso, MultiTaskElasticNetCV\n",
    "from sklearn.linear_model import MultiTaskLassoCV\n",
    "from sklearn.metrics import r2_score\n",
    "from sklearn.datasets import make_regression\n",
    "from sklearn.ensemble import RandomForestClassifier\n",
    "from sklearn.ensemble import RandomForestRegressor\n",
    "#import statsmodels.api as sm\n",
    "from sklearn.preprocessing import OneHotEncoder\n",
    "import sklearn.metrics as sm\n",
    "\n",
    "from sklearn.tree import DecisionTreeClassifier\n",
    "from sklearn.tree import DecisionTreeRegressor\n",
    "from sklearn import svm\n",
    "\n",
    "from sklearn.linear_model import LogisticRegression\n",
    "from sklearn.metrics import classification_report, confusion_matrix\n",
    "\n",
    "import xgboost as xgb\n",
    "from  xgboost import XGBRegressor\n",
    "\n",
    "import numpy as np\n",
    "import pandas as pd\n",
    "import matplotlib.pyplot as plt\n",
    "#%matplotlib inline\n",
    "from sklearn.linear_model import RidgeCV, LassoCV,ElasticNetCV\n",
    "\n",
    "#import statsmodels.api as sm\n"
   ]
  },
  {
   "cell_type": "code",
   "execution_count": 2,
   "metadata": {},
   "outputs": [],
   "source": [
    "import tensorflow as tf\n",
    "from tensorflow import keras\n",
    "import tensorflow.keras \n",
    "from tensorflow.keras import layers\n",
    "from keras import backend as K\n",
    "from keras.models import Sequential\n",
    "from keras.layers import Activation\n",
    "from keras.layers.core import Dense\n",
    "from keras.optimizers import Adam\n",
    "from keras.metrics import categorical_crossentropy"
   ]
  },
  {
   "cell_type": "code",
   "execution_count": 3,
   "metadata": {},
   "outputs": [],
   "source": [
    "%store -r glulamFeatures_traina\n",
    "%store -r glulamFeatures_testa\n",
    "%store -r glulamMargin_traina\n",
    "%store -r glulamMargin_testa"
   ]
  },
  {
   "cell_type": "markdown",
   "metadata": {},
   "source": [
    "# Linear Regression  regularization or cross validation (LASSO)"
   ]
  },
  {
   "cell_type": "markdown",
   "metadata": {},
   "source": [
    "lin_model1allL = LassoCV(cv=10,verbose=0,normalize=True,eps=0.000001,n_alphas=7, tol=0.0001,max_iter=50000000)"
   ]
  },
  {
   "cell_type": "markdown",
   "metadata": {},
   "source": [
    "\n",
    "lin_model1allL.fit(glulamFeatures_traina, glulamMargin_traina)"
   ]
  },
  {
   "cell_type": "markdown",
   "metadata": {},
   "source": [
    "Margin_pred_model1allL = lin_model1allL.predict(glulamFeatures_traina)"
   ]
  },
  {
   "cell_type": "markdown",
   "metadata": {},
   "source": [
    "Train_Predict\n",
    "print(\"Mean absolute error =\", round(sm.mean_absolute_error(glulamMargin_traina, Margin_pred_model1allL), 2)) \n",
    "print(\"Mean squared error =\", round(sm.mean_squared_error(glulamMargin_traina, Margin_pred_model1allL), 2)) \n",
    "print(\"Median absolute error =\", round(sm.median_absolute_error(glulamMargin_traina, Margin_pred_model1allL), 2)) \n",
    "print(\"Explain variance score =\", round(sm.explained_variance_score(glulamMargin_traina, Margin_pred_model1allL), 2)) \n",
    "print(\"R2 score =\", round(sm.r2_score(glulamMargin_traina,Margin_pred_model1allL), 2))"
   ]
  },
  {
   "cell_type": "markdown",
   "metadata": {},
   "source": [
    "pd.set_option('display.max_rows', None)\n",
    "coeff_model1allL = pd.DataFrame(lin_model1allL.coef_[0:230], index=glulamFeatures_traina.columns[0:230], \n",
    "                          columns=['glulamMargin_traina'])\n",
    "coeff_model1allL"
   ]
  },
  {
   "cell_type": "markdown",
   "metadata": {},
   "source": [
    "LogisticRegression"
   ]
  },
  {
   "cell_type": "code",
   "execution_count": 4,
   "metadata": {},
   "outputs": [
    {
     "data": {
      "text/plain": [
       "array([1, 1, 0, ..., 1, 1, 1], dtype=int64)"
      ]
     },
     "execution_count": 4,
     "metadata": {},
     "output_type": "execute_result"
    }
   ],
   "source": [
    "lin_model1al4logistics= LogisticRegression(solver='liblinear', C=100.0, random_state=0).fit(glulamFeatures_traina,glulamMargin_traina)\n",
    "#lin_model1al4logistics.coef_\n",
    "\n",
    "lin_model1al4logistics.predict_proba(glulamFeatures_traina)\n",
    "\n",
    "lin_model1al4logistics.predict(glulamFeatures_traina)"
   ]
  },
  {
   "cell_type": "code",
   "execution_count": 5,
   "metadata": {},
   "outputs": [
    {
     "data": {
      "image/png": "[encoded data removed]",
      "text/plain": [
       "<Figure size 576x576 with 1 Axes>"
      ]
     },
     "metadata": {
      "needs_background": "light"
     },
     "output_type": "display_data"
    },
    {
     "name": "stdout",
     "output_type": "stream",
     "text": [
      "              precision    recall  f1-score   support\n",
      "\n",
      "           0       0.67      0.79      0.72     72401\n",
      "           1       0.67      0.52      0.58     59616\n",
      "\n",
      "    accuracy                           0.67    132017\n",
      "   macro avg       0.67      0.65      0.65    132017\n",
      "weighted avg       0.67      0.67      0.66    132017\n",
      "\n"
     ]
    }
   ],
   "source": [
    "cm = confusion_matrix(glulamMargin_traina, lin_model1al4logistics.predict(glulamFeatures_traina))\n",
    "\n",
    "fig, ax = plt.subplots(figsize=(8, 8))\n",
    "ax.imshow(cm)\n",
    "ax.grid(False)\n",
    "ax.xaxis.set(ticks=(0, 1), ticklabels=('Pred. (Below Avg.)', 'Pred.  (Above Avg.)'))\n",
    "ax.yaxis.set(ticks=(0, 1), ticklabels=('Actual (Below Avg.)', 'Actual (Above Avg.)'))\n",
    "ax.set_ylim(1.5, -0.5)\n",
    "for i in range(2):\n",
    "    for j in range(2):\n",
    "        ax.text(j, i, cm[i, j], ha='center', va='center', color='red')\n",
    "plt.show()\n",
    "\n",
    "print(classification_report(glulamMargin_traina, lin_model1al4logistics.predict(glulamFeatures_traina)))"
   ]
  },
  {
   "cell_type": "code",
   "execution_count": 6,
   "metadata": {},
   "outputs": [
    {
     "data": {
      "image/png": "[encoded data removed]",
      "text/plain": [
       "<Figure size 576x576 with 1 Axes>"
      ]
     },
     "metadata": {
      "needs_background": "light"
     },
     "output_type": "display_data"
    },
    {
     "name": "stdout",
     "output_type": "stream",
     "text": [
      "              precision    recall  f1-score   support\n",
      "\n",
      "           0       0.67      0.07      0.13     38417\n",
      "           1       0.72      0.99      0.83     93600\n",
      "\n",
      "    accuracy                           0.72    132017\n",
      "   macro avg       0.69      0.53      0.48    132017\n",
      "weighted avg       0.71      0.72      0.63    132017\n",
      "\n"
     ]
    }
   ],
   "source": [
    "\n",
    "#Test\n",
    "cm = confusion_matrix(glulamMargin_testa, lin_model1al4logistics.predict(glulamFeatures_testa))\n",
    "\n",
    "fig, ax = plt.subplots(figsize=(8, 8))\n",
    "ax.imshow(cm)\n",
    "ax.grid(False)\n",
    "ax.xaxis.set(ticks=(0, 1), ticklabels=('Pred. (Below Avg.)', 'Pred.  (Above Avg.)'))\n",
    "ax.yaxis.set(ticks=(0, 1), ticklabels=('Actual (Below Avg.)', 'Actual (Above Avg.)'))\n",
    "ax.set_ylim(1.5, -0.5)\n",
    "for i in range(2):\n",
    "    for j in range(2):\n",
    "        ax.text(j, i, cm[i, j], ha='center', va='center', color='red')\n",
    "plt.show()\n",
    "\n",
    "print(classification_report(glulamMargin_testa, lin_model1al4logistics.predict(glulamFeatures_testa)))"
   ]
  },
  {
   "cell_type": "code",
   "execution_count": 7,
   "metadata": {},
   "outputs": [
    {
     "data": {
      "image/png": "[encoded data removed]",
      "text/plain": [
       "<Figure size 576x576 with 1 Axes>"
      ]
     },
     "metadata": {
      "needs_background": "light"
     },
     "output_type": "display_data"
    },
    {
     "name": "stdout",
     "output_type": "stream",
     "text": [
      "              precision    recall  f1-score   support\n",
      "\n",
      "           0       0.97      0.99      0.98     72401\n",
      "           1       0.99      0.97      0.98     59616\n",
      "\n",
      "    accuracy                           0.98    132017\n",
      "   macro avg       0.98      0.98      0.98    132017\n",
      "weighted avg       0.98      0.98      0.98    132017\n",
      "\n"
     ]
    }
   ],
   "source": [
    "\n",
    "lin_model1allDecisionTree= DecisionTreeClassifier(random_state=0)\n",
    "lin_model1allDecisionTree.fit(glulamFeatures_traina,glulamMargin_traina)\n",
    "lin_model1allDecisionTree_Score=lin_model1allDecisionTree.score(glulamFeatures_traina,glulamMargin_traina)\n",
    "lin_model1allDecisionTree_Score\n",
    "\n",
    "\n",
    "\n",
    "#lin_model1al4logistics= LogisticRegression(solver='liblinear', C=100.0, random_state=0).fit(glulamFeatures_traina,glulamMargin_traina)\n",
    "#lin_model1al4logistics.coef_\n",
    "\n",
    "#lin_model1al4logistics.predict_proba(glulamFeatures_traina)\n",
    "\n",
    "#lin_model1al4logistics.predict(glulamFeatures_traina)\n",
    "\n",
    "\n",
    "\n",
    "cm = confusion_matrix(glulamMargin_traina, lin_model1allDecisionTree.predict(glulamFeatures_traina))\n",
    "\n",
    "fig, ax = plt.subplots(figsize=(8, 8))\n",
    "ax.imshow(cm)\n",
    "ax.grid(False)\n",
    "ax.xaxis.set(ticks=(0, 1), ticklabels=('Pred. (Below Avg.)', 'Pred.  (Above Avg.)'))\n",
    "ax.yaxis.set(ticks=(0, 1), ticklabels=('Actual (Below Avg.)', 'Actual (Above Avg.)'))\n",
    "ax.set_ylim(1.5, -0.5)\n",
    "for i in range(2):\n",
    "    for j in range(2):\n",
    "        ax.text(j, i, cm[i, j], ha='center', va='center', color='red')\n",
    "plt.show()\n",
    "\n",
    "\n",
    "print(classification_report(glulamMargin_traina, lin_model1allDecisionTree.predict(glulamFeatures_traina)))"
   ]
  },
  {
   "cell_type": "code",
   "execution_count": 8,
   "metadata": {},
   "outputs": [
    {
     "data": {
      "image/png": "[encoded data removed]",
      "text/plain": [
       "<Figure size 576x576 with 1 Axes>"
      ]
     },
     "metadata": {
      "needs_background": "light"
     },
     "output_type": "display_data"
    },
    {
     "name": "stdout",
     "output_type": "stream",
     "text": [
      "              precision    recall  f1-score   support\n",
      "\n",
      "           0       0.37      0.73      0.49     38417\n",
      "           1       0.82      0.49      0.61     93600\n",
      "\n",
      "    accuracy                           0.56    132017\n",
      "   macro avg       0.59      0.61      0.55    132017\n",
      "weighted avg       0.69      0.56      0.58    132017\n",
      "\n"
     ]
    }
   ],
   "source": [
    "\n",
    "#Test\n",
    "cm = confusion_matrix(glulamMargin_testa, lin_model1allDecisionTree.predict(glulamFeatures_testa))\n",
    "\n",
    "fig, ax = plt.subplots(figsize=(8, 8))\n",
    "ax.imshow(cm)\n",
    "ax.grid(False)\n",
    "ax.xaxis.set(ticks=(0, 1), ticklabels=('Pred. (Below Avg.)', 'Pred.  (Above Avg.)'))\n",
    "ax.yaxis.set(ticks=(0, 1), ticklabels=('Actual (Below Avg.)', 'Actual (Above Avg.)'))\n",
    "ax.set_ylim(1.5, -0.5)\n",
    "for i in range(2):\n",
    "    for j in range(2):\n",
    "        ax.text(j, i, cm[i, j], ha='center', va='center', color='red')\n",
    "plt.show()\n",
    "\n",
    "print(classification_report(glulamMargin_testa, lin_model1allDecisionTree.predict(glulamFeatures_testa)))"
   ]
  },
  {
   "cell_type": "markdown",
   "metadata": {},
   "source": [
    "\n",
    "#RandomForest"
   ]
  },
  {
   "cell_type": "code",
   "execution_count": 9,
   "metadata": {},
   "outputs": [],
   "source": [
    "lin_model1al4RandomeForest=  RandomForestClassifier(n_estimators=120)\n",
    "lin_model1al4RandomeForest.fit(glulamFeatures_traina,glulamMargin_traina)\n",
    "lin_model1al4RandomeForest.score(glulamFeatures_traina,glulamMargin_traina)\n",
    "#lin_model1al4RandomeForest.score(glulamFeatures_testa, glulamMargin_testa)\n",
    "#ceff_model1alRandomforest= pd.DataFrame(lin_model1al4RandomeForest.coef_[0:29], index=glulamFeatures_traina.columns[0:29], columns=['RandomForest Model coefficients'])\n",
    "#ceff_model1alRandomforest\n",
    "\n",
    "\n",
    "cm = confusion_matrix(glulamMargin_traina, lin_model1al4RandomeForest.predict(glulamFeatures_traina))\n",
    "\n",
    "fig, ax = plt.subplots(figsize=(8, 8))\n",
    "ax.imshow(cm)\n",
    "ax.grid(False)\n",
    "ax.xaxis.set(ticks=(0, 1), ticklabels=('Pred. (Below Avg.)', 'Pred.  (Above Avg.)'))\n",
    "ax.yaxis.set(ticks=(0, 1), ticklabels=('Actual (Below Avg.)', 'Actual (Above Avg.)'))\n",
    "ax.set_ylim(1.5, -0.5)\n",
    "for i in range(2):\n",
    "    for j in range(2):\n",
    "        ax.text(j, i, cm[i, j], ha='center', va='center', color='red')\n",
    "plt.show()\n",
    "\n",
    "\n",
    "print(classification_report(glulamMargin_traina, lin_model1al4RandomeForest.predict(glulamFeatures_traina)))\n"
   ]
  },
  {
   "cell_type": "code",
   "execution_count": null,
   "metadata": {},
   "outputs": [
    {
     "data": {
      "image/png": "[encoded data removed]",
      "text/plain": [
       "<Figure size 576x576 with 1 Axes>"
      ]
     },
     "metadata": {
      "needs_background": "light"
     },
     "output_type": "display_data"
    },
    {
     "name": "stdout",
     "output_type": "stream",
     "text": [
      "              precision    recall  f1-score   support\n",
      "\n",
      "           0       0.42      0.57      0.48     38417\n",
      "           1       0.79      0.68      0.73     93600\n",
      "\n",
      "    accuracy                           0.65    132017\n",
      "   macro avg       0.61      0.62      0.61    132017\n",
      "weighted avg       0.68      0.65      0.66    132017\n",
      "\n"
     ]
    }
   ],
   "source": [
    "\n",
    "#Test\n",
    "cm = confusion_matrix(glulamMargin_testa, lin_model1al4RandomeForest.predict(glulamFeatures_testa))\n",
    "\n",
    "fig, ax = plt.subplots(figsize=(8, 8))\n",
    "ax.imshow(cm)\n",
    "ax.grid(False)\n",
    "ax.xaxis.set(ticks=(0, 1), ticklabels=('Pred. (Below Avg.)', 'Pred.  (Above Avg.)'))\n",
    "ax.yaxis.set(ticks=(0, 1), ticklabels=('Actual (Below Avg.)', 'Actual (Above Avg.)'))\n",
    "ax.set_ylim(1.5, -0.5)\n",
    "for i in range(2):\n",
    "    for j in range(2):\n",
    "        ax.text(j, i, cm[i, j], ha='center', va='center', color='red')\n",
    "plt.show()\n",
    "\n",
    "print(classification_report(glulamMargin_testa, lin_model1al4RandomeForest.predict(glulamFeatures_testa)))"
   ]
  },
  {
   "cell_type": "markdown",
   "metadata": {},
   "source": [
    "Neural Net"
   ]
  },
  {
   "cell_type": "code",
   "execution_count": null,
   "metadata": {},
   "outputs": [
    {
     "name": "stderr",
     "output_type": "stream",
     "text": [
      "C:\\Users\\ShodipeO\\AppData\\Local\\Packages\\PythonSoftwareFoundation.Python.3.9_qbz5n2kfra8p0\\LocalCache\\local-packages\\Python39\\site-packages\\keras\\optimizers\\optimizer_v2\\adam.py:110: UserWarning: The `lr` argument is deprecated, use `learning_rate` instead.\n",
      "  super(Adam, self).__init__(name, **kwargs)\n"
     ]
    },
    {
     "name": "stdout",
     "output_type": "stream",
     "text": [
      "Epoch 1/1000\n"
     ]
    }
   ],
   "source": [
    "\n",
    "model = Sequential([\n",
    "    Dense(16, input_shape=(234,), activation='relu'),\n",
    "    Dense(64, activation='relu'),\n",
    "    Dense(1)\n",
    "])\n",
    "#optimizer=tf.keras.optimizer.RMSprop(0.001)\n",
    "model.compile(Adam(lr=.0001), loss='mse', metrics=['mae','mse'])\n",
    "Epochs=10\n",
    "early_stop=keras.callbacks.EarlyStopping(monitor='val_loss', patience=10)\n",
    "model.fit(glulamFeatures_traina, glulamMargin_traina, batch_size=10, epochs=Epochs, validation_split=0.2, shuffle=True, verbose=2, callbacks=[early_stop])"
   ]
  },
  {
   "cell_type": "code",
   "execution_count": null,
   "metadata": {},
   "outputs": [],
   "source": [
    "#Train_Predict\n",
    "Margin_pred_model1allNeuralNet= model.predict(glulamFeatures_traina)\n",
    "\n",
    "\n",
    "#Train_data\n",
    "\n",
    "print(\"Mean absolute error =\", round(sm.mean_absolute_error(glulamMargin_traina, Margin_pred_model1allNeuralNet), 2)) \n",
    "print(\"Mean squared error =\", round(sm.mean_squared_error(glulamMargin_traina, Margin_pred_model1allNeuralNet), 2)) \n",
    "print(\"Median absolute error =\", round(sm.median_absolute_error(glulamMargin_traina, Margin_pred_model1allNeuralNet), 2)) \n",
    "print(\"Explain variance score =\", round(sm.explained_variance_score(glulamMargin_traina, Margin_pred_model1allNeuralNet), 2)) \n",
    "print(\"R2 score =\", round(sm.r2_score(glulamMargin_traina,Margin_pred_model1allNeuralNet), 2))"
   ]
  },
  {
   "cell_type": "code",
   "execution_count": null,
   "metadata": {},
   "outputs": [],
   "source": [
    "#Test_data\n",
    "Margin_pred_model1allNeuralNet= model.predict(glulamFeatures_testa)\n",
    "print(\"Mean absolute error =\", round(sm.mean_absolute_error(glulamMargin_testa, Margin_pred_model1allNeuralNet), 2)) \n",
    "print(\"Mean squared error =\", round(sm.mean_squared_error(glulamMargin_testa, Margin_pred_model1allNeuralNet), 2)) \n",
    "print(\"Median absolute error =\", round(sm.median_absolute_error(glulamMargin_testa, Margin_pred_model1allNeuralNet ), 2)) \n",
    "print(\"Explain variance score =\", round(sm.explained_variance_score(glulamMargin_testa, Margin_pred_model1allNeuralNet ), 2)) \n",
    "print(\"R2 score =\", round(sm.r2_score(glulamMargin_testa,Margin_pred_model1allNeuralNet), 2))"
   ]
  },
  {
   "cell_type": "code",
   "execution_count": null,
   "metadata": {},
   "outputs": [],
   "source": [
    "\n",
    "model = Sequential([\n",
    "    Dense(16, input_shape=(29,), activation='relu'),\n",
    "    Dense(64, activation='relu'),\n",
    "    Dense(1)\n",
    "])\n",
    "#optimizer=tf.keras.optimizer.RMSprop(0.001)\n",
    "model.compile(Adam(lr=.0001), loss='mse', metrics=['mae','mse'])\n",
    "Epochs=1000\n",
    "#early_stop=keras.callbacks.EarlyStopping(monitor='val_loss', patience=10)\n",
    "model.fit(glulamFeatures_traina, glulamMargin_traina, batch_size=10, epochs=Epochs,  shuffle=True, verbose=2)\n",
    "#Train_Predict\n",
    "Margin_pred_model1allNeuralNet= model.predict(glulamFeatures_traina)\n",
    "\n",
    "\n",
    "#Train_data\n",
    "\n",
    "print(\"Mean absolute error =\", round(sm.mean_absolute_error(glulamMargin_traina, Margin_pred_model1allNeuralNet), 2)) \n",
    "print(\"Mean squared error =\", round(sm.mean_squared_error(glulamMargin_traina, Margin_pred_model1allNeuralNet), 2)) \n",
    "print(\"Median absolute error =\", round(sm.median_absolute_error(glulamMargin_traina, Margin_pred_model1allNeuralNet), 2)) \n",
    "print(\"Explain variance score =\", round(sm.explained_variance_score(glulamMargin_traina, Margin_pred_model1allNeuralNet), 2)) \n",
    "print(\"R2 score =\", round(sm.r2_score(glulamMargin_traina,Margin_pred_model1allNeuralNet), 2))\n"
   ]
  },
  {
   "cell_type": "code",
   "execution_count": null,
   "metadata": {},
   "outputs": [],
   "source": [
    "#Re-run the model to visualize and so,  save the model in\n",
    "lin_model1allNeuralNet=model.fit(glulamFeatures_traina, glulamMargin_traina, batch_size=10, epochs=Epochs, validation_split=0.2, shuffle=True, verbose=2, callbacks=[early_stop])\n",
    " \n",
    "\n",
    "#Visuals lin_model1allNeuralNet.history\n",
    "NeuralNetVisuals= pd.DataFrame(lin_model1allNeuralNet.history)\n",
    "NeuralNetVisuals['Epoch']= lin_model1allNeuralNet.epoch\n",
    "NeuralNetVisuals.tail()"
   ]
  },
  {
   "cell_type": "markdown",
   "metadata": {},
   "source": [
    "def plot_in_model1allNeuralNet(history):\n",
    "    NeuralNetVisuals=pd.DataFrame(lin_model1allNeuralNet.history)\n",
    "    NeuralNetVisuals['epoch']= lin_model1allNeuralNet.epoch\n",
    "    \n",
    "    plt.figure()\n",
    "    plt.xlabel('epoch')\n",
    "    plt.ylabel('Mean Absolute Error') \n",
    "    plt.plot(NeuralNetVisuals['epoch'],NeuralNetVisuals['mae'],label='MAE')\n",
    "    plt.plot(NeuralNetVisuals['epoch'],NeuralNetVisuals['val_mae'],label='Val_MAE')\n",
    "    plt.legend()\n",
    "    plt.ylim([0,0.005])   \n",
    "    \n",
    "    plt.figure()\n",
    "    plt.xlabel('epoch')\n",
    "    plt.ylabel('Mean Square Error') \n",
    "    plt.plot(NeuralNetVisuals['epoch'],NeuralNetVisuals['mse'],label='MSE')\n",
    "    plt.plot(NeuralNetVisuals['epoch'],NeuralNetVisuals['val_mse'],label='Val_MSE')\n",
    "    plt.legend()\n",
    "    plt.ylim([0,0.00005]) \n",
    "plot_in_model1allNeuralNet(lin_model1allNeuralNet)"
   ]
  },
  {
   "cell_type": "markdown",
   "metadata": {},
   "source": []
  },
  {
   "cell_type": "markdown",
   "metadata": {},
   "source": [
    "#Gradient Boosting\n",
    "lin_model1allGradientBoost= XGBRegressor(verbosity=0)\n",
    "lin_model1allGradientBoost.fit(glulamFeatures_traina,glulamMargin_traina)\n",
    "lin_model1allGradientBoost_Score=lin_model1allGradientBoost.score(glulamFeatures_traina,glulamMargin_traina)\n",
    "lin_model1allGradientBoost_Score\n",
    "\n",
    "\n",
    "lin_model1allGradientBoost_Score_CV=cross_val_score(lin_model1allGradientBoost,glulamFeatures_traina,glulamMargin_traina, cv=10)\n",
    "lin_model1allGradientBoost_Score_CV.mean()\n",
    "\n",
    "\n",
    "lin_model1allGradientBoost_Score_CV=cross_val_score(lin_model1allGradientBoost,glulamFeatures_traina,glulamMargin_traina, cv=10)\n",
    "lin_model1allGradientBoost_Score_CV.mean()\n",
    "Margin_pred_model1allGradientBoosting= lin_model1allGradientBoost.predict(glulamFeatures_traina)\n",
    "#Train_data\n",
    "\n",
    "print(\"Mean absolute error =\", round(sm.mean_absolute_error(glulamMargin_traina, Margin_pred_model1allGradientBoosting), 2)) \n",
    "print(\"Mean squared error =\", round(sm.mean_squared_error(glulamMargin_traina, Margin_pred_model1allGradientBoosting), 2)) \n",
    "print(\"Median absolute error =\", round(sm.median_absolute_error(glulamMargin_traina, Margin_pred_model1allGradientBoosting), 2)) \n",
    "print(\"Explain variance score =\", round(sm.explained_variance_score(glulamMargin_traina, Margin_pred_model1allGradientBoosting), 2)) \n",
    "print(\"R2 score =\", round(sm.r2_score(glulamMargin_traina,Margin_pred_model1allGradientBoosting), 2))\n",
    "\n",
    "\n"
   ]
  },
  {
   "cell_type": "markdown",
   "metadata": {},
   "source": [
    "#Test_data\n",
    "\n",
    "Margin_pred_model1allGradientBoosting= lin_model1allGradientBoost.predict(glulamFeatures_testa)\n",
    "\n",
    "print(\"Mean absolute error =\", round(sm.mean_absolute_error(glulamMargin_testa, Margin_pred_model1allGradientBoosting), 2)) \n",
    "print(\"Mean squared error =\", round(sm.mean_squared_error(glulamMargin_testa, Margin_pred_model1allGradientBoosting), 2)) \n",
    "print(\"Median absolute error =\", round(sm.median_absolute_error(glulamMargin_testa, Margin_pred_model1allGradientBoosting), 2)) \n",
    "print(\"Explain variance score =\", round(sm.explained_variance_score(glulamMargin_testa, Margin_pred_model1allGradientBoosting), 2)) \n",
    "print(\"R2 score =\", round(sm.r2_score(glulamMargin_testa,Margin_pred_model1allGradientBoosting), 2))\n",
    "\n"
   ]
  }
 ],
 "metadata": {
  "kernelspec": {
   "display_name": "Python 3.9.13 64-bit (windows store)",
   "language": "python",
   "name": "python3"
  },
  "language_info": {
   "codemirror_mode": {
    "name": "ipython",
    "version": 3
   },
   "file_extension": ".py",
   "mimetype": "text/x-python",
   "name": "python",
   "nbconvert_exporter": "python",
   "pygments_lexer": "ipython3",
   "version": "3.9.13"
  },
  "orig_nbformat": 4,
  "vscode": {
   "interpreter": {
    "hash": "5d4a035be9919d799e2f70b977c8badf198f3b23a2c2f42b183ac57abe5211d2"
   }
  }
 },
 "nbformat": 4,
 "nbformat_minor": 2
}
